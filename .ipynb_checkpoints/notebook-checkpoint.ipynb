{
 "cells": [
  {
   "cell_type": "code",
   "execution_count": 4,
   "id": "4ccec77c-48f3-4f12-9ced-241fb076ca46",
   "metadata": {},
   "outputs": [],
   "source": [
    "%aimport test\n",
    "import numpy as np\n",
    "import matplotlib\n",
    "import matplotlib.pyplot as plt\n",
    "\n",
    "rate, data, powers, sec_per_idx, spikes = test.gatherStuff()"
   ]
  },
  {
   "cell_type": "code",
   "execution_count": 5,
   "id": "5f9e9434-11a2-427f-87bc-9915a8721e5a",
   "metadata": {},
   "outputs": [
    {
     "ename": "ValueError",
     "evalue": "too many values to unpack (expected 2)",
     "output_type": "error",
     "traceback": [
      "\u001b[0;31m---------------------------------------------------------------------------\u001b[0m",
      "\u001b[0;31mValueError\u001b[0m                                Traceback (most recent call last)",
      "Cell \u001b[0;32mIn[5], line 1\u001b[0m\n\u001b[0;32m----> 1\u001b[0m not_prime, prime \u001b[38;5;241m=\u001b[39m test\u001b[38;5;241m.\u001b[39mgetPart(\u001b[38;5;241m0.0\u001b[39m, \u001b[38;5;241m1.0\u001b[39m, \u001b[38;5;241m1.0\u001b[39m, np\u001b[38;5;241m.\u001b[39mlinspace(\u001b[38;5;241m0\u001b[39m, \u001b[38;5;241m1.0\u001b[39m, \u001b[38;5;241m1000\u001b[39m))\n\u001b[1;32m      4\u001b[0m plt\u001b[38;5;241m.\u001b[39mplot(not_prime)\n\u001b[1;32m      5\u001b[0m plt\u001b[38;5;241m.\u001b[39mplot(prime)\n",
      "\u001b[0;31mValueError\u001b[0m: too many values to unpack (expected 2)"
     ]
    }
   ],
   "source": [
    "not_prime, prime = test.getPart(0.0, 1.0, 1.0, np.linspace(0, 1.0, 1000))\n",
    "\n",
    "\n",
    "plt.plot(not_prime)\n",
    "plt.plot(prime)"
   ]
  },
  {
   "cell_type": "code",
   "execution_count": null,
   "id": "931ac38b-2b5f-4879-bddf-b48224816e62",
   "metadata": {},
   "outputs": [],
   "source": []
  },
  {
   "cell_type": "code",
   "execution_count": null,
   "id": "7673c998-fff9-4028-89fb-348ebf69e281",
   "metadata": {},
   "outputs": [],
   "source": []
  }
 ],
 "metadata": {
  "kernelspec": {
   "display_name": "Python 3 (ipykernel)",
   "language": "python",
   "name": "python3"
  },
  "language_info": {
   "codemirror_mode": {
    "name": "ipython",
    "version": 3
   },
   "file_extension": ".py",
   "mimetype": "text/x-python",
   "name": "python",
   "nbconvert_exporter": "python",
   "pygments_lexer": "ipython3",
   "version": "3.9.6"
  }
 },
 "nbformat": 4,
 "nbformat_minor": 5
}
