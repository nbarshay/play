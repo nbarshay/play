{
 "cells": [
  {
   "cell_type": "code",
   "execution_count": 1,
   "id": "d42b235a-fa8d-4421-9f74-953e72b9dd5a",
   "metadata": {},
   "outputs": [
    {
     "name": "stdout",
     "output_type": "stream",
     "text": [
      "n= 10\n",
      "n= 20\n",
      "n= 30\n",
      "n= 40\n",
      "n= 50\n",
      "too long on https://lookaside.instagram.com/seo/google_widget/crawler/?media_id=3458425797671263939\n",
      "n= 59\n",
      "too long on https://lookaside.instagram.com/seo/google_widget/crawler/?media_id=3447579693631190681\n",
      "n= 68\n",
      "too long on https://lookaside.instagram.com/seo/google_widget/crawler/?media_id=3110615747586750783\n",
      "n= 77\n",
      "n= 87\n",
      "n= 97\n",
      "n= 100\n"
     ]
    },
    {
     "data": {
      "text/html": [
       "<video src=\"test.mp4\" controls  >\n",
       "      Your browser does not support the <code>video</code> element.\n",
       "    </video>"
      ],
      "text/plain": [
       "<IPython.core.display.Video object>"
      ]
     },
     "execution_count": 1,
     "metadata": {},
     "output_type": "execute_result"
    }
   ],
   "source": [
    "from IPython.display import Video\n",
    "from gracelib import getImageResults, makeVideoFromImgs, makeSquare\n",
    "imgs = getImageResults('cat', 100)\n",
    "makeVideoFromImgs('test.mp4', [makeSquare(x) for x in imgs], 15)\n",
    "Video(\"test.mp4\")"
   ]
  }
 ],
 "metadata": {
  "kernelspec": {
   "display_name": "Python 3 (ipykernel)",
   "language": "python",
   "name": "python3"
  },
  "language_info": {
   "codemirror_mode": {
    "name": "ipython",
    "version": 3
   },
   "file_extension": ".py",
   "mimetype": "text/x-python",
   "name": "python",
   "nbconvert_exporter": "python",
   "pygments_lexer": "ipython3",
   "version": "3.9.6"
  }
 },
 "nbformat": 4,
 "nbformat_minor": 5
}
